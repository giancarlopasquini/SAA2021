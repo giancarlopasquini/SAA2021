{
 "cells": [
  {
   "cell_type": "code",
   "execution_count": 1,
   "metadata": {},
   "outputs": [
    {
     "name": "stderr",
     "output_type": "stream",
     "text": [
      "WARNING (theano.configdefaults): g++ not available, if using conda: `conda install m2w64-toolchain`\n",
      "C:\\Users\\gianc\\Anaconda3\\lib\\site-packages\\theano\\configdefaults.py:560: UserWarning: DeprecationWarning: there is no c++ compiler.This is deprecated and with Theano 0.11 a c++ compiler will be mandatory\n",
      "  warnings.warn(\"DeprecationWarning: there is no c++ compiler.\"\n",
      "WARNING (theano.configdefaults): g++ not detected ! Theano will be unable to execute optimized C-implementations (for both CPU and GPU) and will default to Python implementations. Performance will be severely degraded. To remove this warning, set Theano flags cxx to an empty string.\n",
      "WARNING (theano.tensor.blas): Using NumPy C-API based implementation for BLAS functions.\n",
      "C:\\Users\\gianc\\Anaconda3\\lib\\site-packages\\dask\\config.py:168: YAMLLoadWarning: calling yaml.load() without Loader=... is deprecated, as the default Loader is unsafe. Please read https://msg.pyyaml.org/load for full details.\n",
      "  data = yaml.load(f.read()) or {}\n",
      "C:\\Users\\gianc\\Anaconda3\\lib\\site-packages\\distributed\\config.py:20: YAMLLoadWarning: calling yaml.load() without Loader=... is deprecated, as the default Loader is unsafe. Please read https://msg.pyyaml.org/load for full details.\n",
      "  defaults = yaml.load(f)\n"
     ]
    }
   ],
   "source": [
    "import pandas as pd\n",
    "import numpy as np\n",
    "import matplotlib.pyplot as plt\n",
    "import seaborn as sns\n",
    "import pymc3 as pm\n",
    "import theano.tensor as tt\n",
    "import warnings\n",
    "\n",
    "from scipy.stats import beta\n",
    "from scipy.special import expit\n",
    "from matplotlib import gridspec\n",
    "from IPython.display import Image\n",
    "\n",
    "%matplotlib inline\n",
    "plt.style.use('seaborn-white')\n",
    "\n",
    "color = '#87ceeb'\n",
    "\n",
    "f_dict = {'size':16}"
   ]
  },
  {
   "cell_type": "code",
   "execution_count": 2,
   "metadata": {},
   "outputs": [],
   "source": [
    "def plot_mustache(o, k, j, width=.65, ax=None):\n",
    "    for i in np.arange(0, len(o), int(len(o)*.1)):\n",
    "        a = o[i]*(k[i]-2)+1\n",
    "        b = (1-o[i])*(k[i]-2)+1\n",
    "        rv = beta(a,b)\n",
    "                \n",
    "        yrange = np.linspace(rv.ppf(0.025), rv.ppf(0.975), 100)\n",
    "        xrange = rv.pdf(yrange)\n",
    "        \n",
    "        # When the SD of a group is large compared to others, then the top of its mustache is relatively\n",
    "        # low and does not plot well together with low SD groups.\n",
    "        # Scale the xrange so that the 'height' of the all mustaches is 0.75\n",
    "        xrange_scaled = xrange*(width/xrange.max())\n",
    "        \n",
    "        # Using the negative value to flip the mustache in the right direction.\n",
    "        ax.plot(-xrange_scaled+j, yrange, color=color, alpha=.5)"
   ]
  },
  {
   "cell_type": "markdown",
   "metadata": {},
   "source": [
    "# Import Burst 1 data"
   ]
  },
  {
   "cell_type": "code",
   "execution_count": 3,
   "metadata": {
    "collapsed": true
   },
   "outputs": [
    {
     "name": "stdout",
     "output_type": "stream",
     "text": [
      "<class 'pandas.core.frame.DataFrame'>\n",
      "RangeIndex: 265 entries, 0 to 264\n",
      "Data columns (total 3 columns):\n",
      "id                  265 non-null int64\n",
      "b1_run_ins          265 non-null int64\n",
      "b1_survey_counts    265 non-null int64\n",
      "dtypes: int64(3)\n",
      "memory usage: 6.3 KB\n"
     ]
    }
   ],
   "source": [
    "df = pd.read_csv('C:/Users/gianc/Box Sync/GP_desktop/SAA 2021/Calculated compliance dataset/b1compliance.csv')\n",
    "df.info()"
   ]
  },
  {
   "cell_type": "code",
   "execution_count": 5,
   "metadata": {
    "collapsed": true
   },
   "outputs": [
    {
     "data": {
      "text/html": [
       "<div>\n",
       "<style scoped>\n",
       "    .dataframe tbody tr th:only-of-type {\n",
       "        vertical-align: middle;\n",
       "    }\n",
       "\n",
       "    .dataframe tbody tr th {\n",
       "        vertical-align: top;\n",
       "    }\n",
       "\n",
       "    .dataframe thead th {\n",
       "        text-align: right;\n",
       "    }\n",
       "</style>\n",
       "<table border=\"1\" class=\"dataframe\">\n",
       "  <thead>\n",
       "    <tr style=\"text-align: right;\">\n",
       "      <th></th>\n",
       "      <th>id</th>\n",
       "      <th>b1_run_ins</th>\n",
       "      <th>b1_survey_counts</th>\n",
       "    </tr>\n",
       "  </thead>\n",
       "  <tbody>\n",
       "    <tr>\n",
       "      <th>0</th>\n",
       "      <td>3001</td>\n",
       "      <td>0</td>\n",
       "      <td>67</td>\n",
       "    </tr>\n",
       "    <tr>\n",
       "      <th>1</th>\n",
       "      <td>3002</td>\n",
       "      <td>43</td>\n",
       "      <td>57</td>\n",
       "    </tr>\n",
       "    <tr>\n",
       "      <th>2</th>\n",
       "      <td>3003</td>\n",
       "      <td>47</td>\n",
       "      <td>70</td>\n",
       "    </tr>\n",
       "    <tr>\n",
       "      <th>3</th>\n",
       "      <td>3004</td>\n",
       "      <td>52</td>\n",
       "      <td>74</td>\n",
       "    </tr>\n",
       "    <tr>\n",
       "      <th>4</th>\n",
       "      <td>3005</td>\n",
       "      <td>44</td>\n",
       "      <td>91</td>\n",
       "    </tr>\n",
       "  </tbody>\n",
       "</table>\n",
       "</div>"
      ],
      "text/plain": [
       "     id  b1_run_ins  b1_survey_counts\n",
       "0  3001           0                67\n",
       "1  3002          43                57\n",
       "2  3003          47                70\n",
       "3  3004          52                74\n",
       "4  3005          44                91"
      ]
     },
     "execution_count": 5,
     "metadata": {},
     "output_type": "execute_result"
    }
   ],
   "source": [
    "df.head(5)"
   ]
  },
  {
   "cell_type": "code",
   "execution_count": 8,
   "metadata": {},
   "outputs": [
    {
     "name": "stdout",
     "output_type": "stream",
     "text": [
      "<class 'pandas.core.frame.DataFrame'>\n",
      "RangeIndex: 265 entries, 0 to 264\n",
      "Data columns (total 3 columns):\n",
      "id                  265 non-null int64\n",
      "b1_run_ins          265 non-null float64\n",
      "b1_survey_counts    265 non-null float64\n",
      "dtypes: float64(2), int64(1)\n",
      "memory usage: 6.3 KB\n"
     ]
    }
   ],
   "source": [
    "# convert columns \"b1_run_ins\" and \"b1_survey_counts\" to float64 dtype\n",
    "df = df.astype({\"b1_run_ins\": float, \"b1_survey_counts\": float})\n",
    "df.info()"
   ]
  },
  {
   "cell_type": "code",
   "execution_count": 10,
   "metadata": {
    "scrolled": false
   },
   "outputs": [],
   "source": [
    "X = df['b1_run_ins']\n",
    "y = df['b1_survey_counts']\n",
    "\n",
    "meanx = X.mean()\n",
    "scalex = X.std()\n",
    "zX = ((X-meanx)/scalex)"
   ]
  },
  {
   "cell_type": "code",
   "execution_count": 15,
   "metadata": {
    "collapsed": true
   },
   "outputs": [
    {
     "data": {
      "text/plain": [
       "0     -2.000831\n",
       "1      0.977934\n",
       "2      1.255029\n",
       "3      1.601397\n",
       "4      1.047208\n",
       "5      0.770113\n",
       "6      1.047208\n",
       "7     -1.031000\n",
       "8      0.285198\n",
       "9     -1.308095\n",
       "10    -0.338264\n",
       "11     0.908661\n",
       "12     0.215925\n",
       "13     0.423745\n",
       "14    -1.585189\n",
       "15    -0.199717\n",
       "16    -0.407538\n",
       "17    -0.684632\n",
       "18     0.770113\n",
       "19    -1.031000\n",
       "20     0.839387\n",
       "21     0.908661\n",
       "22    -1.100274\n",
       "23     0.354472\n",
       "24    -0.546085\n",
       "25     0.008104\n",
       "26    -0.407538\n",
       "27    -1.031000\n",
       "28     1.255029\n",
       "29    -1.100274\n",
       "         ...   \n",
       "235    1.047208\n",
       "236    0.908661\n",
       "237    1.532123\n",
       "238   -0.961727\n",
       "239   -1.100274\n",
       "240    0.354472\n",
       "241    0.008104\n",
       "242    0.908661\n",
       "243   -0.684632\n",
       "244    1.324302\n",
       "245   -0.961727\n",
       "246   -0.546085\n",
       "247    0.977934\n",
       "248   -1.031000\n",
       "249   -1.031000\n",
       "250   -0.061170\n",
       "251    1.047208\n",
       "252   -0.823180\n",
       "253    1.047208\n",
       "254    0.700840\n",
       "255    0.770113\n",
       "256    1.739944\n",
       "257   -1.100274\n",
       "258   -1.031000\n",
       "259   -0.961727\n",
       "260   -1.031000\n",
       "261   -0.961727\n",
       "262    1.947765\n",
       "263    1.462850\n",
       "264   -0.753906\n",
       "Name: b1_run_ins, Length: 265, dtype: float64"
      ]
     },
     "execution_count": 15,
     "metadata": {},
     "output_type": "execute_result"
    }
   ],
   "source": [
    "# check if this worked\n",
    "zX"
   ]
  },
  {
   "cell_type": "code",
   "execution_count": 20,
   "metadata": {},
   "outputs": [
    {
     "ename": "ValueError",
     "evalue": "Can only tuple-index with a MultiIndex",
     "output_type": "error",
     "traceback": [
      "\u001b[1;31m---------------------------------------------------------------------------\u001b[0m",
      "\u001b[1;31mValueError\u001b[0m                                Traceback (most recent call last)",
      "\u001b[1;32m<ipython-input-20-f360b64e555b>\u001b[0m in \u001b[0;36m<module>\u001b[1;34m\u001b[0m\n\u001b[0;32m      4\u001b[0m     \u001b[0mzbetaj\u001b[0m \u001b[1;33m=\u001b[0m \u001b[0mpm\u001b[0m\u001b[1;33m.\u001b[0m\u001b[0mNormal\u001b[0m\u001b[1;33m(\u001b[0m\u001b[1;34m'zbetaj'\u001b[0m\u001b[1;33m,\u001b[0m \u001b[0mmu\u001b[0m\u001b[1;33m=\u001b[0m\u001b[1;36m0\u001b[0m\u001b[1;33m,\u001b[0m \u001b[0msd\u001b[0m\u001b[1;33m=\u001b[0m\u001b[1;36m2\u001b[0m\u001b[1;33m)\u001b[0m\u001b[1;33m\u001b[0m\u001b[1;33m\u001b[0m\u001b[0m\n\u001b[0;32m      5\u001b[0m \u001b[1;33m\u001b[0m\u001b[0m\n\u001b[1;32m----> 6\u001b[1;33m     \u001b[0mp\u001b[0m \u001b[1;33m=\u001b[0m \u001b[0mpm\u001b[0m\u001b[1;33m.\u001b[0m\u001b[0minvlogit\u001b[0m\u001b[1;33m(\u001b[0m\u001b[0mzbeta0\u001b[0m \u001b[1;33m+\u001b[0m \u001b[0mzbetaj\u001b[0m\u001b[1;33m*\u001b[0m\u001b[0mzX\u001b[0m\u001b[1;33m[\u001b[0m\u001b[1;33m:\u001b[0m\u001b[1;33m,\u001b[0m\u001b[1;36m1\u001b[0m\u001b[1;33m]\u001b[0m\u001b[1;33m)\u001b[0m\u001b[1;33m\u001b[0m\u001b[1;33m\u001b[0m\u001b[0m\n\u001b[0m\u001b[0;32m      7\u001b[0m \u001b[1;33m\u001b[0m\u001b[0m\n\u001b[0;32m      8\u001b[0m     \u001b[0mlikelihood\u001b[0m \u001b[1;33m=\u001b[0m \u001b[0mpm\u001b[0m\u001b[1;33m.\u001b[0m\u001b[0mBernoulli\u001b[0m\u001b[1;33m(\u001b[0m\u001b[1;34m'likelihood'\u001b[0m\u001b[1;33m,\u001b[0m \u001b[0mp\u001b[0m\u001b[1;33m,\u001b[0m \u001b[0mobserved\u001b[0m\u001b[1;33m=\u001b[0m\u001b[0my\u001b[0m\u001b[1;33m)\u001b[0m\u001b[1;33m\u001b[0m\u001b[1;33m\u001b[0m\u001b[0m\n",
      "\u001b[1;32m~\\Anaconda3\\lib\\site-packages\\pandas\\core\\series.py\u001b[0m in \u001b[0;36m__getitem__\u001b[1;34m(self, key)\u001b[0m\n\u001b[0;32m    909\u001b[0m             \u001b[0mkey\u001b[0m \u001b[1;33m=\u001b[0m \u001b[0mcheck_bool_indexer\u001b[0m\u001b[1;33m(\u001b[0m\u001b[0mself\u001b[0m\u001b[1;33m.\u001b[0m\u001b[0mindex\u001b[0m\u001b[1;33m,\u001b[0m \u001b[0mkey\u001b[0m\u001b[1;33m)\u001b[0m\u001b[1;33m\u001b[0m\u001b[1;33m\u001b[0m\u001b[0m\n\u001b[0;32m    910\u001b[0m \u001b[1;33m\u001b[0m\u001b[0m\n\u001b[1;32m--> 911\u001b[1;33m         \u001b[1;32mreturn\u001b[0m \u001b[0mself\u001b[0m\u001b[1;33m.\u001b[0m\u001b[0m_get_with\u001b[0m\u001b[1;33m(\u001b[0m\u001b[0mkey\u001b[0m\u001b[1;33m)\u001b[0m\u001b[1;33m\u001b[0m\u001b[1;33m\u001b[0m\u001b[0m\n\u001b[0m\u001b[0;32m    912\u001b[0m \u001b[1;33m\u001b[0m\u001b[0m\n\u001b[0;32m    913\u001b[0m     \u001b[1;32mdef\u001b[0m \u001b[0m_get_with\u001b[0m\u001b[1;33m(\u001b[0m\u001b[0mself\u001b[0m\u001b[1;33m,\u001b[0m \u001b[0mkey\u001b[0m\u001b[1;33m)\u001b[0m\u001b[1;33m:\u001b[0m\u001b[1;33m\u001b[0m\u001b[1;33m\u001b[0m\u001b[0m\n",
      "\u001b[1;32m~\\Anaconda3\\lib\\site-packages\\pandas\\core\\series.py\u001b[0m in \u001b[0;36m_get_with\u001b[1;34m(self, key)\u001b[0m\n\u001b[0;32m    921\u001b[0m         \u001b[1;32melif\u001b[0m \u001b[0misinstance\u001b[0m\u001b[1;33m(\u001b[0m\u001b[0mkey\u001b[0m\u001b[1;33m,\u001b[0m \u001b[0mtuple\u001b[0m\u001b[1;33m)\u001b[0m\u001b[1;33m:\u001b[0m\u001b[1;33m\u001b[0m\u001b[1;33m\u001b[0m\u001b[0m\n\u001b[0;32m    922\u001b[0m             \u001b[1;32mtry\u001b[0m\u001b[1;33m:\u001b[0m\u001b[1;33m\u001b[0m\u001b[1;33m\u001b[0m\u001b[0m\n\u001b[1;32m--> 923\u001b[1;33m                 \u001b[1;32mreturn\u001b[0m \u001b[0mself\u001b[0m\u001b[1;33m.\u001b[0m\u001b[0m_get_values_tuple\u001b[0m\u001b[1;33m(\u001b[0m\u001b[0mkey\u001b[0m\u001b[1;33m)\u001b[0m\u001b[1;33m\u001b[0m\u001b[1;33m\u001b[0m\u001b[0m\n\u001b[0m\u001b[0;32m    924\u001b[0m             \u001b[1;32mexcept\u001b[0m \u001b[0mException\u001b[0m\u001b[1;33m:\u001b[0m\u001b[1;33m\u001b[0m\u001b[1;33m\u001b[0m\u001b[0m\n\u001b[0;32m    925\u001b[0m                 \u001b[1;32mif\u001b[0m \u001b[0mlen\u001b[0m\u001b[1;33m(\u001b[0m\u001b[0mkey\u001b[0m\u001b[1;33m)\u001b[0m \u001b[1;33m==\u001b[0m \u001b[1;36m1\u001b[0m\u001b[1;33m:\u001b[0m\u001b[1;33m\u001b[0m\u001b[1;33m\u001b[0m\u001b[0m\n",
      "\u001b[1;32m~\\Anaconda3\\lib\\site-packages\\pandas\\core\\series.py\u001b[0m in \u001b[0;36m_get_values_tuple\u001b[1;34m(self, key)\u001b[0m\n\u001b[0;32m    966\u001b[0m \u001b[1;33m\u001b[0m\u001b[0m\n\u001b[0;32m    967\u001b[0m         \u001b[1;32mif\u001b[0m \u001b[1;32mnot\u001b[0m \u001b[0misinstance\u001b[0m\u001b[1;33m(\u001b[0m\u001b[0mself\u001b[0m\u001b[1;33m.\u001b[0m\u001b[0mindex\u001b[0m\u001b[1;33m,\u001b[0m \u001b[0mMultiIndex\u001b[0m\u001b[1;33m)\u001b[0m\u001b[1;33m:\u001b[0m\u001b[1;33m\u001b[0m\u001b[1;33m\u001b[0m\u001b[0m\n\u001b[1;32m--> 968\u001b[1;33m             \u001b[1;32mraise\u001b[0m \u001b[0mValueError\u001b[0m\u001b[1;33m(\u001b[0m\u001b[1;34m'Can only tuple-index with a MultiIndex'\u001b[0m\u001b[1;33m)\u001b[0m\u001b[1;33m\u001b[0m\u001b[1;33m\u001b[0m\u001b[0m\n\u001b[0m\u001b[0;32m    969\u001b[0m \u001b[1;33m\u001b[0m\u001b[0m\n\u001b[0;32m    970\u001b[0m         \u001b[1;31m# If key is contained, would have returned by now\u001b[0m\u001b[1;33m\u001b[0m\u001b[1;33m\u001b[0m\u001b[1;33m\u001b[0m\u001b[0m\n",
      "\u001b[1;31mValueError\u001b[0m: Can only tuple-index with a MultiIndex"
     ]
    }
   ],
   "source": [
    "with pm.Model() as model_weight:\n",
    "    \n",
    "    zbeta0 = pm.Normal('zbeta0', mu=0, sd=2)\n",
    "    zbetaj = pm.Normal('zbetaj', mu=0, sd=2)\n",
    "        \n",
    "    p = pm.invlogit(zbeta0 + zbetaj*zX[:,1])\n",
    "        \n",
    "    likelihood = pm.Bernoulli('likelihood', p, observed=y.values)"
   ]
  },
  {
   "cell_type": "code",
   "execution_count": null,
   "metadata": {},
   "outputs": [],
   "source": [
    "with model_weight:\n",
    "    trace1 = pm.sample(3000, cores=4)"
   ]
  },
  {
   "cell_type": "code",
   "execution_count": null,
   "metadata": {},
   "outputs": [],
   "source": [
    "# Transform parameters back to original scale\n",
    "beta0 = trace1['zbeta0'] - trace1['zbetaj']*meanx[1]/scalex[1]\n",
    "betaj = (trace1['zbetaj']/scalex[1])\n",
    "\n",
    "plt.figure(figsize=(10,10))\n",
    "# Define gridspec\n",
    "gs = gridspec.GridSpec(3, 4)\n",
    "ax1 = plt.subplot(gs[:2,:4])\n",
    "ax2 = plt.subplot(gs[2,:2])\n",
    "ax3 = plt.subplot(gs[2,2:])\n",
    "\n",
    "ax1.scatter(df.weight, df.male, s=100, edgecolor='k', facecolors='None', lw=1)\n",
    "\n",
    "# Take 20 values from the posterior distribution and plot the lines\n",
    "n_curves = 20\n",
    "tr_len = len(trace1)\n",
    "stepIdxVec = np.arange(0, tr_len, tr_len//n_curves)\n",
    "weight_span = np.arange(df.weight.min(), df.weight.max())\n",
    "weights = np.tile(weight_span.reshape(-1,1), (1,n_curves))\n",
    "# The expit function from scipy.special calculates the inverse of the logit function\n",
    "p = expit(beta0[stepIdxVec] + betaj[stepIdxVec]*weights)\n",
    "ax1.plot(weights, p, c=color)\n",
    "\n",
    "ax1.axhline(y=0.5, color='k', linestyle='dotted')\n",
    "\n",
    "# Look up weights for which of the posterior probabilities is (close to) 0.5\n",
    "decision_boundary = weight_span[np.any(np.isclose(p, 0.5, atol=0.01), axis=1)]\n",
    "# Highlight the weightspan\n",
    "ax1.axvspan(decision_boundary.min(), decision_boundary.max(),\n",
    "            0, 0.5, color=color, alpha=0.3)\n",
    "\n",
    "ax1.set_xlabel('Weight')\n",
    "ax1.set_ylabel('Male')\n",
    "ax1.set_title('Data with Post. Pred.')\n",
    "\n",
    "pm.plot_posterior(beta0, point_estimate='mode', ax=ax2, color=color)\n",
    "ax2.set_title('Intercept', fontdict=f_dict)\n",
    "ax2.set_xlabel(r'$\\beta_0$', fontdict=f_dict)\n",
    "\n",
    "pm.plot_posterior(betaj, point_estimate='mode', ax=ax3, color=color)\n",
    "ax3.set_title('Weight', fontdict=f_dict)\n",
    "ax3.set_xlabel(r'$\\beta_1$', fontdict=f_dict);\n",
    "\n",
    "plt.tight_layout();"
   ]
  }
 ],
 "metadata": {
  "kernelspec": {
   "display_name": "Python 3",
   "language": "python",
   "name": "python3"
  },
  "language_info": {
   "codemirror_mode": {
    "name": "ipython",
    "version": 3
   },
   "file_extension": ".py",
   "mimetype": "text/x-python",
   "name": "python",
   "nbconvert_exporter": "python",
   "pygments_lexer": "ipython3",
   "version": "3.7.3"
  }
 },
 "nbformat": 4,
 "nbformat_minor": 2
}
